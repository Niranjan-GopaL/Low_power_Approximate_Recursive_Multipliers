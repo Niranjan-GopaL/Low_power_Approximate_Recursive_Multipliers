{
 "cells": [
  {
   "cell_type": "code",
   "execution_count": 10,
   "metadata": {},
   "outputs": [],
   "source": [
    "import cv2\n",
    "import numpy as np\n",
    "from matplotlib import pyplot as plt"
   ]
  },
  {
   "cell_type": "code",
   "execution_count": 3,
   "metadata": {},
   "outputs": [],
   "source": [
    "image      = cv2.imread('./../Lena_Original_Image__512x512-pixels_W640.jpg')\n",
    "image_data = np.array(image)"
   ]
  },
  {
   "cell_type": "code",
   "execution_count": 12,
   "metadata": {},
   "outputs": [
    {
     "name": "stdout",
     "output_type": "stream",
     "text": [
      "Shape: (567, 567, 3)\n",
      "Data type: uint8\n",
      "Number of dimensions: 3\n",
      "Total number of elements: 964467\n",
      "Size of each element: 1\n"
     ]
    }
   ],
   "source": [
    "# Get information about the image_data\n",
    "print(\"Shape:\", image_data.shape)\n",
    "print(\"Data type:\", image_data.dtype)\n",
    "print(\"Number of dimensions:\", image_data.ndim)\n",
    "print(\"Total number of elements:\", image_data.size)\n",
    "print(\"Size of each element:\", image_data.itemsize)"
   ]
  },
  {
   "cell_type": "code",
   "execution_count": 13,
   "metadata": {},
   "outputs": [
    {
     "data": {
      "text/plain": [
       "array([[[158, 158, 158],\n",
       "        [159, 159, 159],\n",
       "        [160, 160, 160],\n",
       "        ...,\n",
       "        [173, 173, 173],\n",
       "        [151, 151, 151],\n",
       "        [117, 117, 117]],\n",
       "\n",
       "       [[160, 160, 160],\n",
       "        [159, 159, 159],\n",
       "        [160, 160, 160],\n",
       "        ...,\n",
       "        [170, 170, 170],\n",
       "        [150, 150, 150],\n",
       "        [119, 119, 119]],\n",
       "\n",
       "       [[160, 160, 160],\n",
       "        [158, 158, 158],\n",
       "        [157, 157, 157],\n",
       "        ...,\n",
       "        [167, 167, 167],\n",
       "        [146, 146, 146],\n",
       "        [116, 116, 116]],\n",
       "\n",
       "       ...,\n",
       "\n",
       "       [[ 22,  22,  22],\n",
       "        [ 29,  29,  29],\n",
       "        [ 30,  30,  30],\n",
       "        ...,\n",
       "        [ 88,  88,  88],\n",
       "        [ 89,  89,  89],\n",
       "        [ 87,  87,  87]],\n",
       "\n",
       "       [[ 23,  23,  23],\n",
       "        [ 29,  29,  29],\n",
       "        [ 32,  32,  32],\n",
       "        ...,\n",
       "        [ 89,  89,  89],\n",
       "        [ 92,  92,  92],\n",
       "        [ 91,  91,  91]],\n",
       "\n",
       "       [[ 23,  23,  23],\n",
       "        [ 30,  30,  30],\n",
       "        [ 32,  32,  32],\n",
       "        ...,\n",
       "        [ 90,  90,  90],\n",
       "        [ 94,  94,  94],\n",
       "        [ 94,  94,  94]]], dtype=uint8)"
      ]
     },
     "execution_count": 13,
     "metadata": {},
     "output_type": "execute_result"
    }
   ],
   "source": [
    "kjimage_data"
   ]
  },
  {
   "cell_type": "code",
   "execution_count": 24,
   "metadata": {},
   "outputs": [],
   "source": [
    "kernel = np.array([\n",
    "    [0.095, 0.118, 0.095],\n",
    "    [0.0119, 0.148, 0.0118],\n",
    "    [0.095, 0.118, 0.095]\n",
    "])\n",
    "\n",
    "kernal_sum = np.sum(kernel)\n",
    "\n",
    "smoothed_image = np.zeros_like(image_data)\n",
    "\n",
    "# MANUAL CONVOLUTION \n",
    "for i in range(1, image_data.shape[0] - 1):\n",
    "    for j in range(1, image_data.shape[1] - 1):\n",
    "        sum = 0\n",
    "        for k in range(-1, 2):\n",
    "            for l in range(-1, 2):\n",
    "                \n",
    "                # in a 2D aray, array[row,column] => gives THAT ELEMENT at that location (NICE!)\n",
    "                sum += image_data[i + k, j + l] * kernel[k + 1, l + 1]\n",
    "                \n",
    "        smoothed_image[i, j] = sum  / kernal_sum"
   ]
  },
  {
   "cell_type": "code",
   "execution_count": 21,
   "metadata": {},
   "outputs": [
    {
     "data": {
      "text/plain": [
       "1023"
      ]
     },
     "execution_count": 21,
     "metadata": {},
     "output_type": "execute_result"
    }
   ],
   "source": [
    "kernal_sum"
   ]
  },
  {
   "cell_type": "code",
   "execution_count": 22,
   "metadata": {},
   "outputs": [
    {
     "data": {
      "text/plain": [
       "True"
      ]
     },
     "execution_count": 22,
     "metadata": {},
     "output_type": "execute_result"
    }
   ],
   "source": [
    "cv2.imwrite(\"smoothed_image.jpg\", smoothed_image)"
   ]
  }
 ],
 "metadata": {
  "kernelspec": {
   "display_name": "Python 3",
   "language": "python",
   "name": "python3"
  },
  "language_info": {
   "codemirror_mode": {
    "name": "ipython",
    "version": 3
   },
   "file_extension": ".py",
   "mimetype": "text/x-python",
   "name": "python",
   "nbconvert_exporter": "python",
   "pygments_lexer": "ipython3",
   "version": "3.11.9"
  }
 },
 "nbformat": 4,
 "nbformat_minor": 2
}
