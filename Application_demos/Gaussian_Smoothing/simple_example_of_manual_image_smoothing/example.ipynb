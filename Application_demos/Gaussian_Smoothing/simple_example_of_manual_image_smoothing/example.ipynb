{
 "cells": [
  {
   "cell_type": "code",
   "execution_count": 1,
   "metadata": {},
   "outputs": [],
   "source": [
    "import cv2\n",
    "import numpy as np\n",
    "from matplotlib import pyplot as plt"
   ]
  },
  {
   "cell_type": "code",
   "execution_count": 37,
   "metadata": {},
   "outputs": [],
   "source": [
    "# image      = cv2.imread('./../Lena_Original_Image__512x512-pixels_W640.jpg', cv2.IMREAD_GRAYSCALE)\n",
    "image      = cv2.imread('./../Lena_Original_Image__512x512-pixels_W640.jpg')\n",
    "image_data = np.array(image)"
   ]
  },
  {
   "cell_type": "code",
   "execution_count": 38,
   "metadata": {},
   "outputs": [
    {
     "name": "stdout",
     "output_type": "stream",
     "text": [
      "Shape: (567, 567, 3)\n",
      "Data type: uint8\n",
      "Number of dimensions: 3\n",
      "Total number of elements: 964467\n",
      "Size of each element: 1\n"
     ]
    }
   ],
   "source": [
    "# Get information about the image_data\n",
    "print(\"Shape:\", image_data.shape)\n",
    "print(\"Data type:\", image_data.dtype)\n",
    "print(\"Number of dimensions:\", image_data.ndim)\n",
    "print(\"Total number of elements:\", image_data.size)\n",
    "print(\"Size of each element:\", image_data.itemsize)"
   ]
  },
  {
   "cell_type": "code",
   "execution_count": 39,
   "metadata": {},
   "outputs": [],
   "source": [
    "kernel = np.array([\n",
    "    [ 97,  121,  97],\n",
    "    [121,  151,  121],\n",
    "    [ 97,  121,  97]\n",
    "])\n",
    "\n",
    "\n",
    "kernel_sum = np.sum(kernel)\n",
    "smoothed_image = np.zeros_like(image_data)\n",
    "\n",
    "num_of_multiplications = 0 \n",
    "\n",
    "# MANUAL CONVOLUTION \n",
    "for i in range(1, image_data.shape[0] - 1):\n",
    "    for j in range(1, image_data.shape[1] - 1):\n",
    "\n",
    "        for c in range(3):  # For each color channel\n",
    "            sum = 0\n",
    "\n",
    "            # MANUAL CONVOLUTION\n",
    "            for k in range(-1, 2):\n",
    "                for l in range(-1, 2):\n",
    "\n",
    "                    sum += int(image_data[i + k, j + l, c]) * kernel[k + 1, l + 1]\n",
    "                    num_of_multiplications  += 1\n",
    "            \n",
    "            smoothed_image[i, j, c] = min(255, max(0, sum // kernel_sum))"
   ]
  },
  {
   "cell_type": "code",
   "execution_count": 40,
   "metadata": {},
   "outputs": [
    {
     "data": {
      "text/plain": [
       "8619075"
      ]
     },
     "execution_count": 40,
     "metadata": {},
     "output_type": "execute_result"
    }
   ],
   "source": [
    "num_of_multiplications"
   ]
  },
  {
   "cell_type": "code",
   "execution_count": 41,
   "metadata": {},
   "outputs": [
    {
     "data": {
      "text/plain": [
       "True"
      ]
     },
     "execution_count": 41,
     "metadata": {},
     "output_type": "execute_result"
    }
   ],
   "source": [
    "cv2.imwrite(\"smoothed_image.jpg\", smoothed_image)"
   ]
  }
 ],
 "metadata": {
  "kernelspec": {
   "display_name": "Python 3",
   "language": "python",
   "name": "python3"
  },
  "language_info": {
   "codemirror_mode": {
    "name": "ipython",
    "version": 3
   },
   "file_extension": ".py",
   "mimetype": "text/x-python",
   "name": "python",
   "nbconvert_exporter": "python",
   "pygments_lexer": "ipython3",
   "version": "3.11.9"
  }
 },
 "nbformat": 4,
 "nbformat_minor": 2
}
