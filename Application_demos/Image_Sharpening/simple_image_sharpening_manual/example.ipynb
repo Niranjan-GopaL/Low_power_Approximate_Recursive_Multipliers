{
 "cells": [
  {
   "cell_type": "code",
   "execution_count": 1,
   "metadata": {},
   "outputs": [],
   "source": [
    "import cv2\n",
    "import numpy as np\n",
    "from matplotlib import pyplot as plt"
   ]
  },
  {
   "cell_type": "code",
   "execution_count": 13,
   "metadata": {},
   "outputs": [],
   "source": [
    "# image      = cv2.imread('./../Lena_Original_Image__512x512-pixels_W640.jpg', cv2.IMREAD_GRAYSCALE)\n",
    "image      = cv2.imread('./../Image_to_sharpen__.png')\n",
    "image_data = np.array(image)"
   ]
  },
  {
   "cell_type": "code",
   "execution_count": null,
   "metadata": {},
   "outputs": [],
   "source": [
    "def sharpen_image(image_data):\n",
    "    num_of_multiplications = 0\n",
    "\n",
    "    # 5x5 MASK\n",
    "    mask = np.array([\n",
    "        [1,  4,  7,  4, 1],\n",
    "        [4, 16, 26, 16, 4],\n",
    "        [7, 26, 41, 26, 7],\n",
    "        [4, 16, 26, 16, 4],\n",
    "        [1,  4,  7,  4, 1]\n",
    "    ])\n",
    "    \n",
    "    sharpened_image = np.zeros_like(image_data)\n",
    "    \n",
    "    # Padding to handle border pixels\n",
    "    padded_image = np.pad(image_data, ((2,2), (2,2), (0,0)), mode='edge')\n",
    "    \n",
    "    # Manual convolution\n",
    "    for i in range(2, padded_image.shape[0] - 2):\n",
    "        for j in range(2, padded_image.shape[1] - 2):\n",
    "\n",
    "            # For each color channel\n",
    "            for c in range(3): \n",
    "\n",
    "                # Calculate the weighted sum using the mask\n",
    "                sum = 0\n",
    "\n",
    "                for m in range(-2, 3):\n",
    "                    for n in range(-2, 3):\n",
    "                        pixel_value = int(padded_image[i + m, j + n, c])\n",
    "\n",
    "                        mask_value = mask[m + 2, n + 2]\n",
    "                        \n",
    "                        sum += pixel_value * mask_value\n",
    "                        num_of_multiplications += 1\n",
    "                \n",
    "                # Calculate final pixel value using the formula:\n",
    "\n",
    "                # Y(i,j) = 2 * X(i,j) - (1/273) * sum\n",
    "\n",
    "                original_pixel = int(padded_image[i, j, c])\n",
    "                sharpened_value = 2 * original_pixel - (sum // 273)\n",
    "                \n",
    "                # Ensure values stay in valid range [0, 255]\n",
    "                sharpened_image[i-2, j-2, c] = min(255, max(0, sharpened_value))\n",
    "\n",
    "    print(num_of_multiplications) \n",
    "    return sharpened_image"
   ]
  },
  {
   "cell_type": "code",
   "execution_count": 15,
   "metadata": {},
   "outputs": [
    {
     "name": "stdout",
     "output_type": "stream",
     "text": [
      "4915200\n"
     ]
    },
    {
     "data": {
      "text/plain": [
       "True"
      ]
     },
     "execution_count": 15,
     "metadata": {},
     "output_type": "execute_result"
    }
   ],
   "source": [
    "sharpened = sharpen_image(image_data)\n",
    "cv2.imwrite('sharpened_image.jpg', sharpened)"
   ]
  }
 ],
 "metadata": {
  "kernelspec": {
   "display_name": "Python 3",
   "language": "python",
   "name": "python3"
  },
  "language_info": {
   "codemirror_mode": {
    "name": "ipython",
    "version": 3
   },
   "file_extension": ".py",
   "mimetype": "text/x-python",
   "name": "python",
   "nbconvert_exporter": "python",
   "pygments_lexer": "ipython3",
   "version": "3.11.9"
  }
 },
 "nbformat": 4,
 "nbformat_minor": 2
}
